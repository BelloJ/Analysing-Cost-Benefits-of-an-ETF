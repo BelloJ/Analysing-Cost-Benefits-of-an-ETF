{
  "nbformat": 4,
  "nbformat_minor": 0,
  "metadata": {
    "colab": {
      "provenance": []
    },
    "kernelspec": {
      "name": "python3",
      "display_name": "Python 3"
    },
    "language_info": {
      "name": "python"
    }
  },
  "cells": [
    {
      "cell_type": "markdown",
      "source": [
        "# ANALYZING COSTS AND BENEFITS OF OWNING AN ETF"
      ],
      "metadata": {
        "id": "UE3h_YuPPiFt"
      }
    },
    {
      "cell_type": "markdown",
      "source": [
        "##In this project, we will show how to effectively tap into the benefits that can be derived from diversification through owning an ETF."
      ],
      "metadata": {
        "id": "MaOa0cFzPucS"
      }
    },
    {
      "cell_type": "code",
      "execution_count": 1,
      "metadata": {
        "id": "zJqKzNRPPePb"
      },
      "outputs": [],
      "source": [
        "import datetime\n",
        "\n",
        "import matplotlib.pyplot as plt\n",
        "import pandas as pd\n",
        "import pandas_datareader.data as web\n",
        "import seaborn as sns\n",
        "import yfinance as yfin\n",
        "\n",
        "yfin.pdr_override()"
      ]
    },
    {
      "cell_type": "markdown",
      "source": [
        "## 1. Analyzing Exchange Traded Funds (ETFs)\n",
        "\n",
        "In this project, we will be using analytical  tools in python to examine exchange traded funds (ETFs). We will learn the details of ETFs that what make them such an important investing tools. \n",
        "\n",
        "### 1.1 ETF Benefits\n",
        "* **Diversification:** exchange traded funds essentially have some form of diversification built in already. The benefits of diversification is built into the DNA of ETFs. For example, you can invest in the SPDR S&P 500 ETF Trust(SPY) which tracks the S&P 500. This allows you to effectively invest in 500 companies at once instead of actually having to buy the stocks of 500 companies individually. You can reap the diversification benefits from this. Most ETFs even rebalance every quarter so you don't have to worry about that either.\n",
        "\n",
        "* **Survivorship Bias:** There are a lot of ETFs, some of which follow strict rules on which companies can be included or not. Let's say we have an ETF called ABC. ABC requires companies to have over a \\\\$100mn market cap. This means that anytime one of the holding comapnies within ABC falls below \\\\$100 million, the ETF is forced to sell it and buy a new company. This introduces a clear bias to only hold onto companies that are doing well. This can be a huge benefit to investors in certain situations.\n",
        "\n",
        "* **Broader Predictions:** ETFs allow you to make a prediction without being an expert in a certain industry - Let's say you expected the semiconductor market to do well over the next year but didn't know specifically which company to buy. ETFs simplify this thought process by allowing you to buy into one ETF, which contains shares of individual semiconductor stocks  \n",
        "\n",
        "\n",
        "Let's explore these benefits in a bit more detail starting from the top.\n",
        "\n",
        "### 1.2 ETF Benefits: Diversification\n",
        "In this project, we will further illustrate the benefits of diversification through ETFs. Imagine the year is 2006 and your two friends Elaine and Jerry both conclude that banks and financial institutions will be fantastic long-term investments for the next 15+ years. Jerry is confident with his stock-picking skills, so he decides he's going to invest all of his money into a company he can't imagine in a million years could fail, Lehman Brothers. Elaine doesn't know as much about specific financial institutions and what to invest in, so she decides she will just invest her money into an ETF, XLF. XLF is the Financial Select Sector SPDR Fund; it contains exposure to the U.S. financials sector. It's cap-weighted, S&P 500-only portfolio, which means that it’s concentrated in large banks and avoids small-caps (XLF).\n",
        "\n",
        "If you had to guess, who do you think had better performance since the start of 2006? You can probably see where this is going. If you're unaware, Lehman Brothers famously collapsed in 2008 and filed for the largest bankruptcy in U.S. history. This means Jerry likely lost his entire initial investment.\n"
      ],
      "metadata": {
        "id": "_OzKjasuQFrx"
      }
    },
    {
      "cell_type": "markdown",
      "source": [
        "**Figure 1: Lehman Brothers Market Cap**\n",
        "\n",
        "![Lehman%20brothers.PNG](https://drive.google.com/file/d/1f9zf5HLdN6uKZusy20-gwYrRHQuZWskr/view?usp=share_link)\n",
        "###### Source: Wiggins, Rosalind Z.; Piontek, Thomas; and Metrick, Andrew (2019) \"The Lehman Brothers Bankruptcy A: Overview,\" *The Journal of Financial Crises*: Vol. 1 : Issue. 1, 39-62.,(https://elischolar.library.yale.edu/cgi/viewcontent.cgi?article=1000&context=journal-of-financial-crises)\n"
      ],
      "metadata": {
        "id": "2F56ICVcR6eM"
      }
    },
    {
      "cell_type": "markdown",
      "source": [
        "E\n",
        "xamine what happened to XLF during this time period and see how it held up:"
      ],
      "metadata": {
        "id": "EsBmrUOfXqI4"
      }
    },
    {
      "cell_type": "code",
      "source": [
        "\n",
        "start = datetime.date(2006, 1, 1)\n",
        "end = datetime.date(2021, 11, 28)\n",
        "# end = datetime.date.today()\n",
        "prices = pd.DataFrame(web.DataReader([\"XLF\"], start, end)[\"Adj Close\"])\n",
        "prices = prices.rename(columns={\"Adj Close\": \"XLF\"})\n",
        "prices = prices.dropna()"
      ],
      "metadata": {
        "colab": {
          "base_uri": "https://localhost:8080/"
        },
        "id": "H-W1XxLyVvLb",
        "outputId": "2bac9830-99f5-49c4-e3a9-944c79921b8a"
      },
      "execution_count": 7,
      "outputs": [
        {
          "output_type": "stream",
          "name": "stdout",
          "text": [
            "\r[*********************100%***********************]  1 of 1 completed\n"
          ]
        }
      ]
    },
    {
      "cell_type": "code",
      "source": [
        "start = datetime.date(2006, 1, 1)\n",
        "end = datetime.date(2021, 11, 28)\n",
        "# end = datetime.date.today()\n",
        "prices = pd.DataFrame(web.DataReader([\"XLF\"], start, end)[\"Adj Close\"])\n",
        "prices = prices.rename(columns={\"Adj Close\": \"XLF\"})\n",
        "prices = prices.dropna()"
      ],
      "metadata": {
        "colab": {
          "base_uri": "https://localhost:8080/"
        },
        "id": "-9m9KQdvQAbk",
        "outputId": "a1cf8f1d-e527-4051-c7d8-0b0448dfb146"
      },
      "execution_count": 8,
      "outputs": [
        {
          "output_type": "stream",
          "name": "stdout",
          "text": [
            "\r[*********************100%***********************]  1 of 1 completed\n"
          ]
        }
      ]
    },
    {
      "cell_type": "markdown",
      "source": [
        "Lehman Brothers collapse had a profound effect on the financial industry as seen in the above chart. They had lots of different exposure to different financial institutions and for a variety of reasons, the U.S. economy went into the worst recession since the Great Depression. If we just take a moment to look at the period from 2006 to the start of 2010 and compare the min and max of the data at this time, you can see that XLF lost 82.7% as its max drawdown. "
      ],
      "metadata": {
        "id": "1Xd3zVQjX6nw"
      }
    },
    {
      "cell_type": "code",
      "source": [
        "drawdown = (\n",
        "    prices[\"2006-01-01\":\"2010-01-01\"].max() - prices[\"2006-01-01\":\"2010-01-01\"].min()\n",
        ") / prices[\"2006-01-01\":\"2010-01-01\"].max()\n",
        "100 * drawdown.round(3)"
      ],
      "metadata": {
        "colab": {
          "base_uri": "https://localhost:8080/"
        },
        "id": "iFIOkAWtX3D5",
        "outputId": "9d95512c-496f-4f50-bfa5-3257fd078aa6"
      },
      "execution_count": 9,
      "outputs": [
        {
          "output_type": "execute_result",
          "data": {
            "text/plain": [
              "XLF    82.7\n",
              "dtype: float64"
            ]
          },
          "metadata": {},
          "execution_count": 9
        }
      ]
    },
    {
      "cell_type": "markdown",
      "source": [
        "I'm sure near the start of 2010, Elaine would be distraught over her investment since XLF was performing horribly. As sad as she would be, Jerry would be more upset since his investing account is now worth \\\\$0 with no way to recoup his initial investment. Lucky for Elaine, she's a patient person so instead of taking a massive loss, she decided she would just wait and hold. Let's see her percentage return from the start of 2006 to today:"
      ],
      "metadata": {
        "id": "E6g7HmKlYDXQ"
      }
    },
    {
      "cell_type": "code",
      "source": [
        "(100 * (prices.XLF[-1] - prices.XLF[0]) / prices.XLF[0]).round(2)"
      ],
      "metadata": {
        "colab": {
          "base_uri": "https://localhost:8080/"
        },
        "id": "V8Dh1zMIX9_-",
        "outputId": "aaded6e2-f04b-479b-b19f-f486a5c7f44c"
      },
      "execution_count": 10,
      "outputs": [
        {
          "output_type": "execute_result",
          "data": {
            "text/plain": [
              "104.82"
            ]
          },
          "metadata": {},
          "execution_count": 10
        }
      ]
    },
    {
      "cell_type": "markdown",
      "source": [
        "By having the benefits of diversification through an ETF and by being patient, Elaine would've ended up with a 104.82% return since 2006. If she invested \\\\$10,000 dollars into the fund then while Jerry invested \\\\$10,000 into Lehman Brothers, he would be left with \\\\$0 while Elaine would be sitting on about $20,482. This is just one example of many illustrating the benefits of diversification through ETFs."
      ],
      "metadata": {
        "id": "D2EFALweYLnf"
      }
    },
    {
      "cell_type": "markdown",
      "source": [
        "### 1.3 ETF Benefits - Survivorship Bias\n",
        "Many ETFs have to follow certain rules for which companies they can hold: this has a sort of built in survivorship bias, which can help investors. For example, consider the Dow Jones Industrial Average (DJIA), which is one of the oldest equity indices on Earth. This index was created by Charles Dow in 1896 with the following original components:\n",
        "\n",
        "* American Cotton Oil \n",
        "* American Sugar \n",
        "* American Tobacco\n",
        "* Chicago Gas \n",
        "* Distilling & Cattle Feeding \n",
        "* General Electric \n",
        "* Laclede Gas \n",
        "* National Lead \n",
        "* North American \n",
        "* Tennessee Coal Iron and RR \n",
        "* U.S. Leather \n",
        "* United States Rubber \n",
        "\n",
        "General Electric is likely the only one you have heard of out of these and is the only company from this list still with its original name. The rest of them have been dissolved or spun off into different companies. Considering this, you would expect the Dow Jones Industrial Average to be struggling, but that's not the case. DJIA hit an all-time low during the summer of 1890 where the index hit a price of 28.48. Fast forward to 2021 and the index is at \\\\$35,754.69 as of December 9th, 2021. This is clearly not an index in bad shape. This is because over time, as views change regarding what should constitute the DJIA, companies were removed and added. In fact, General Electric has been removed twice throughout it's history, finally in 2018 as it is no longer on the index today (S&P Dow Jones Indices).\n",
        "\n",
        "Clearly, ETFs were not available during the Dow's inception as they've only become widely available over the past couple of decades, but you can still see why this survivorship bias can help you as an owner of an ETF.  "
      ],
      "metadata": {
        "id": "X2UncKnHYQBb"
      }
    },
    {
      "cell_type": "markdown",
      "source": [
        "### 1.3 ETF Benefits - Survivorship Bias\n",
        "Many ETFs have to follow certain rules for which companies they can hold: this has a sort of built in survivorship bias, which can help investors. For example, consider the Dow Jones Industrial Average (DJIA), which is one of the oldest equity indices on Earth. This index was created by Charles Dow in 1896 with the following original components:\n",
        "\n",
        "* American Cotton Oil \n",
        "* American Sugar \n",
        "* American Tobacco\n",
        "* Chicago Gas \n",
        "* Distilling & Cattle Feeding \n",
        "* General Electric \n",
        "* Laclede Gas \n",
        "* National Lead \n",
        "* North American \n",
        "* Tennessee Coal Iron and RR \n",
        "* U.S. Leather \n",
        "* United States Rubber \n",
        "\n",
        "General Electric is likely the only one you have heard of out of these and is the only company from this list still with its original name. The rest of them have been dissolved or spun off into different companies. Considering this, you would expect the Dow Jones Industrial Average to be struggling, but that's not the case. DJIA hit an all-time low during the summer of 1890 where the index hit a price of 28.48. Fast forward to 2021 and the index is at \\\\$35,754.69 as of December 9th, 2021. This is clearly not an index in bad shape. This is because over time, as views change regarding what should constitute the DJIA, companies were removed and added. In fact, General Electric has been removed twice throughout it's history, finally in 2018 as it is no longer on the index today (S&P Dow Jones Indices).\n",
        "\n",
        "Clearly, ETFs were not available during the Dow's inception as they've only become widely available over the past couple of decades, but you can still see why this survivorship bias can help you as an owner of an ETF.  "
      ],
      "metadata": {
        "id": "IHfucjhRYcqc"
      }
    },
    {
      "cell_type": "markdown",
      "source": [
        "This means at the current price we're losing \\\\$30 a year annually per share. Multiply this by two shares and our final portfolio value at the end of the year is:"
      ],
      "metadata": {
        "id": "XZRlvm7zYnPl"
      }
    },
    {
      "cell_type": "code",
      "source": [
        "6000 * 0.005"
      ],
      "metadata": {
        "colab": {
          "base_uri": "https://localhost:8080/"
        },
        "id": "aAAk-W08YI6b",
        "outputId": "0d345650-56e3-4d39-fbe8-d3e83a1ac798"
      },
      "execution_count": 11,
      "outputs": [
        {
          "output_type": "execute_result",
          "data": {
            "text/plain": [
              "30.0"
            ]
          },
          "metadata": {},
          "execution_count": 11
        }
      ]
    },
    {
      "cell_type": "markdown",
      "source": [
        "Instead of having a portfolio value of \\\\$12,000 by the end of the year, it's worth \\\\$11,940 when taking into account the expense ratio. This may not seem like a lot, but not all expense ratios are created equally and we must take this into consideration before investing into an ETF. If a portfolio is unchanged at the end of the year, then it loses the expense ratio, since the return was 0 before expenses."
      ],
      "metadata": {
        "id": "etstxXCfYzez"
      }
    },
    {
      "cell_type": "markdown",
      "source": [
        "### 1.5 Active versus Passive ETFs\n",
        "When ETFs were initially invented, they were designed to allow investors to invest into funds that track indices like the S&P 500, Dow Jones Industrial Average, etc. These would be considered passive funds since their sole purpose was to track an underlying index.\n",
        "\n",
        "This purpose has evolved over time, and today there are many ETFs you can invest in that track a portfolio manager instead of an index. For example, there is the ARK Innovation ETF (ARKK) with an expense ratio of 0.75%, which is on the high side compared to many passive ETFs. This fund tracks the investments by famous investor, Cathie Wood. These actively managed funds tend to have higher expense ratios than passive funds\n",
        "\n",
        "## 2. Conclusion\n",
        "This lesson we went over the nuances of owning an ETF along with how we can take advantage of their built-in diversification benefits. In the next lesson of this module, we will cover situations where diversification fails and how we can quantify that\n"
      ],
      "metadata": {
        "id": "Zf0uqlh6Y4ji"
      }
    },
    {
      "cell_type": "markdown",
      "source": [
        "**References**\n",
        "\n",
        "- XLF ETF Report. ETF.com, https://www.etf.com/XLF. Accessed 23 March 2022.\n",
        "\n",
        "- S&P Dow Jones Indices. *Dow Jones Industrial Average - Historical Components. S&P Global*, https://www.spglobal.com/spdji/en/documents/education/spdji-djia-historical-component-changes.pdf. Accessed 23 March 2022.\n",
        "\n",
        "- Wiggins, Rosalind Z.; Piontek, Thomas; and Metrick, Andrew (2019) \"The Lehman Brothers Bankruptcy A: Overview,\" *The Journal of Financial Crises*: Vol. 1 : Issue. 1, 39-62. https://elischolar.library.yale.edu/journal-of-financial-crises/vol1/iss1/2"
      ],
      "metadata": {
        "id": "sevvxQvXZCY0"
      }
    },
    {
      "cell_type": "code",
      "source": [],
      "metadata": {
        "id": "7_gw4yubYiDj"
      },
      "execution_count": null,
      "outputs": []
    }
  ]
}